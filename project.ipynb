{
 "cells": [
  {
   "cell_type": "code",
   "execution_count": 2,
   "id": "51597bf0-c94e-4653-97c9-facf27a49e1a",
   "metadata": {},
   "outputs": [],
   "source": [
    "from pandas_profiling import ProfileReport\n",
    "from dataCenter.vartype import newContiVar, newDummyVar, newDiscreVar\n",
    "from dataCenter.dataCenter import dataSet, ToolFactor\n",
    "from model.logisticRegModel import logisticRegressionModel\n",
    "from model.lightGBMModel import lightGBMModel\n",
    "from indicatorAnalyzer.analyzer import indicatorAnalyzer\n",
    "import warnings\n",
    "\n",
    "warnings.filterwarnings('ignore')"
   ]
  },
  {
   "cell_type": "code",
   "execution_count": 3,
   "id": "e86a34f8-4a27-4491-990f-46da3743daa2",
   "metadata": {},
   "outputs": [
    {
     "name": "stderr",
     "output_type": "stream",
     "text": [
      "2021-10-09 02:14:17,428 - INFO - start reading file.\n"
     ]
    },
    {
     "name": "stdout",
     "output_type": "stream",
     "text": [
      "\n",
      "\n"
     ]
    },
    {
     "name": "stderr",
     "output_type": "stream",
     "text": [
      "2021-10-09 02:14:27,310 - INFO - finish reading file.\n",
      "2021-10-09 02:14:32,993 - INFO - finish reading holdout\n",
      "2021-10-09 02:14:38,278 - INFO - begin processing data\n",
      "2021-10-09 02:15:01,552 - INFO - begin processing 2-value data\n",
      "2021-10-09 02:15:14,311 - INFO - begin processing multi-value data\n",
      "2021-10-09 02:15:22,580 - INFO - begin processing continuous and discrete data\n",
      "2021-10-09 02:15:52,657 - INFO - finish processing data!\n",
      "2021-10-09 02:15:54,504 - INFO - input number of variables: 748\n",
      "2021-10-09 02:17:46,159 - INFO - ouput number of variables: 575\n"
     ]
    }
   ],
   "source": [
    "\n",
    "dataSet.init()\n",
    "dataSet.loadHoldOut()\n",
    "dataSet.importExternalVariable()\n",
    "\n",
    "dataSet.processor()\n",
    "dataSet.varSelector()\n",
    "\n",
    "dataSet.initEvalData(ratio=0.2)"
   ]
  },
  {
   "cell_type": "code",
   "execution_count": 4,
   "id": "a11bb7c2-3555-4c2d-8bed-011bd43ce72e",
   "metadata": {},
   "outputs": [
    {
     "name": "stdout",
     "output_type": "stream",
     "text": [
      "epoch 0\n",
      "loss:  0.6836   accuracy:  0.5609   recall:  0.5195   precision:  0.571   auc:  0.5876\n",
      "学习率为 0.01\n",
      "for eval dataset, accuracy:  0.6332   recall:  0.656   precision:  0.8681955479676933   auc:  0.6337082731462644\n",
      "epoch 1\n",
      "loss:  0.6672   accuracy:  0.5965   recall:  0.6446   precision:  0.5886   auc:  0.6395\n",
      "学习率为 0.01\n",
      "for eval dataset, accuracy:  0.5661   recall:  0.5469   precision:  0.8842061987987446   auc:  0.6421275711909309\n",
      "epoch 2\n",
      "loss:  0.6621   accuracy:  0.6028   recall:  0.5243   precision:  0.622   auc:  0.642\n",
      "学习率为 0.01\n",
      "for eval dataset, accuracy:  0.5677   recall:  0.5475   precision:  0.8863072705913067   auc:  0.646580532639057\n",
      "epoch 3\n",
      "loss:  0.6573   accuracy:  0.6071   recall:  0.5929   precision:  0.6107   auc:  0.65\n",
      "学习率为 0.01\n",
      "for eval dataset, accuracy:  0.6288   recall:  0.6387   precision:  0.8794879240255525   auc:  0.6549523356250534\n",
      "epoch 4\n",
      "loss:  0.6547   accuracy:  0.6107   recall:  0.6234   precision:  0.6082   auc:  0.6565\n",
      "学习率为 0.01\n",
      "for eval dataset, accuracy:  0.5885   recall:  0.5755   precision:  0.8872539177160123   auc:  0.6573566521235944\n"
     ]
    },
    {
     "name": "stderr",
     "output_type": "stream",
     "text": [
      "100%|██████████████████████████████████████████████████████████████████████████████████| 40/40 [00:30<00:00,  1.32it/s]\n"
     ]
    }
   ],
   "source": [
    "model1 = logisticRegressionModel(lr=0.01, optimizer=\"ADAM\", epochs=5, ifEval=True, ifQuadratic=False)\n",
    "model1.trainModel()"
   ]
  },
  {
   "cell_type": "code",
   "execution_count": 5,
   "id": "cc68a149-fd4e-4b2b-b574-3fa6ba5f74f7",
   "metadata": {},
   "outputs": [
    {
     "name": "stdout",
     "output_type": "stream",
     "text": [
      "[LightGBM] [Warning] min_data_in_leaf is set=1000, min_child_samples=20 will be ignored. Current value: min_data_in_leaf=1000\n",
      "for train dataset, accuracy:  0.6677   recall:  0.6149   precision:  0.6874969108852167   auc:  0.7326798041777086\n",
      "           true 1  true 0\n",
      "predict 1   83458   37936\n",
      "predict 0   52260   97782\n",
      "[LightGBM] [Warning] min_data_in_leaf is set=1000, min_child_samples=20 will be ignored. Current value: min_data_in_leaf=1000\n",
      "for train dataset, accuracy:  0.6696   recall:  0.6141   precision:  0.6907451454902578   auc:  0.7358158734176639\n",
      "           true 1  true 0\n",
      "predict 1   83346   37315\n",
      "predict 0   52372   98403\n",
      "[LightGBM] [Warning] min_data_in_leaf is set=1000, min_child_samples=20 will be ignored. Current value: min_data_in_leaf=1000\n",
      "for train dataset, accuracy:  0.6673   recall:  0.6132   precision:  0.6875020650916901   auc:  0.7333754328641049\n",
      "           true 1  true 0\n",
      "predict 1   83229   37831\n",
      "predict 0   52489   97887\n",
      "[LightGBM] [Warning] min_data_in_leaf is set=1000, min_child_samples=20 will be ignored. Current value: min_data_in_leaf=1000\n",
      "for train dataset, accuracy:  0.6669   recall:  0.6119   precision:  0.6875212146801447   auc:  0.7328420953474666\n",
      "           true 1  true 0\n",
      "predict 1   83045   37744\n",
      "predict 0   52673   97974\n",
      "for eval  dataset, accuracy:  0.5939   recall:  0.5732   precision:  0.8992682547096372   auc:  0.6827367770004477\n",
      "           true 1  true 0\n",
      "predict 1   92416   10352\n",
      "predict 0   68818   23383\n"
     ]
    }
   ],
   "source": [
    "model2 = lightGBMModel(ifEval=True)\n",
    "model2.trainModel()"
   ]
  },
  {
   "cell_type": "code",
   "execution_count": null,
   "id": "f58c60c7-ae5e-4a5d-9dc4-62a99cf94227",
   "metadata": {},
   "outputs": [],
   "source": [
    "# model1.predictProba(dataSet.holdOut)\n",
    "# model2.predictProba(dataSet.holdOut)"
   ]
  }
 ],
 "metadata": {
  "kernelspec": {
   "display_name": "Python 3",
   "language": "python",
   "name": "python3"
  },
  "language_info": {
   "codemirror_mode": {
    "name": "ipython",
    "version": 3
   },
   "file_extension": ".py",
   "mimetype": "text/x-python",
   "name": "python",
   "nbconvert_exporter": "python",
   "pygments_lexer": "ipython3",
   "version": "3.8.8"
  }
 },
 "nbformat": 4,
 "nbformat_minor": 5
}
